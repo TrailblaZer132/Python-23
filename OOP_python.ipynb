{
 "cells": [
  {
   "attachments": {},
   "cell_type": "markdown",
   "metadata": {},
   "source": [
    "# OOP in Python\n",
    "_<span style=\"color: rgba(239, 239, 240, 0.2);\">by TrailblaZer132</span>_"
   ]
  },
  {
   "attachments": {},
   "cell_type": "markdown",
   "metadata": {},
   "source": [
    "## <u>__Class__</u>"
   ]
  },
  {
   "attachments": {},
   "cell_type": "markdown",
   "metadata": {},
   "source": [
    "* Class is a blueprint.\n",
    "\n",
    "* Lets suppose we create a datatype in python. Then that data type can be referred as a class. When make a variable of that datatype, that variable is the object of that class.\n",
    "\n",
    ">> a = 2\n",
    "\n",
    ">> a is an object of class int\n",
    "\n",
    "* Class has two things:\n",
    "    * Data or property\n",
    "    * Functions or behavior"
   ]
  },
  {
   "cell_type": "code",
   "execution_count": 2,
   "metadata": {},
   "outputs": [],
   "source": [
    "#Class basic structure\n",
    "#Class name should be in PascalCase\n",
    "#data name and method name should be in snake_case\n",
    "class Car:\n",
    "    color = \"blue\" #data\n",
    "    model = \"sports\" #data\n",
    "\n",
    "    def calculate_avg_speed(km, time):\n",
    "        #Some code\n",
    "        return km/time"
   ]
  },
  {
   "attachments": {},
   "cell_type": "markdown",
   "metadata": {},
   "source": [
    "## <u>__Objects__</u>\n",
    "\n",
    "* Object is an instance of a class\n",
    "* If Car is a Class then Wagonr is an Object. It is syntaxed as wagonr = Car()\n",
    "* If Sports is a Class then Cricket is an Object. It is syntaxed as cricket = Sports()\n",
    "* If Animals is a Class then Tiger is an Object. It is syntaxed as tiger = Animals()\n"
   ]
  },
  {
   "cell_type": "code",
   "execution_count": 1,
   "metadata": {},
   "outputs": [
    {
     "name": "stdout",
     "output_type": "stream",
     "text": [
      "<class 'list'>\n",
      "<class 'list'>\n"
     ]
    }
   ],
   "source": [
    "# We can create object literals for some classes\n",
    "# Object literals are just easy way of creating objects for the build in classes\n",
    "\n",
    "L = [1,2,3,4,5] #Object literal for list class\n",
    "\n",
    "# Or we can follow the conventional way of creating objects\n",
    "\n",
    "L2 = 1,2,3,4,5\n",
    "L2 = list()\n",
    "\n",
    "print(type(L))\n",
    "print(type(L2))\n",
    "\n"
   ]
  },
  {
   "attachments": {},
   "cell_type": "markdown",
   "metadata": {},
   "source": [
    "### Functions Vs. Methods\n",
    "\n",
    "* Function is a general function which can be globally accessed by all.\n",
    "* Method is a special function which is written inside a class. The objects of the class can access it.\n",
    "* For calling a function we can just write its name with parenthesis.\n",
    "* For calling a method we have to call it using object of that class.\n",
    "\n",
    ">> L = [1 ,2, 3, 4, 5]\n",
    "\n",
    ">> len(L) #This is a function\n",
    "\n",
    ">> L.append() #This is a method"
   ]
  },
  {
   "attachments": {},
   "cell_type": "markdown",
   "metadata": {},
   "source": [
    "### Constructors\n",
    "\n",
    "* Constructor is a special method, in which the code written inside it automatically executes when we make an object of the class.\n",
    "\n",
    "* Since it is a method that is automatically called, in software development, constructors are used to store configuration related tasks, the tasks that you would not want the user to interfare with."
   ]
  },
  {
   "cell_type": "code",
   "execution_count": 16,
   "metadata": {},
   "outputs": [
    {
     "name": "stdout",
     "output_type": "stream",
     "text": [
      "Hello I am a constructor\n"
     ]
    }
   ],
   "source": [
    "class ConstructorExample:\n",
    "\n",
    "    #constructor method\n",
    "    def __init__(self):\n",
    "        print(f\"Hello I am a constructor\")\n",
    "\n",
    "auto = ConstructorExample()\n",
    "# The message inside the constructor will get auto printed"
   ]
  },
  {
   "cell_type": "code",
   "execution_count": 3,
   "metadata": {},
   "outputs": [
    {
     "name": "stdout",
     "output_type": "stream",
     "text": [
      "You have selected to EXIT\n"
     ]
    }
   ],
   "source": [
    "#Example software for an ATM Machine\n",
    "'''\n",
    "Ideas:\n",
    "    1. Create a class for ATM\n",
    "    2. Account balance, withdraw, deposit, transfer\n",
    "    3. ATM Pin\n",
    "\n",
    "    4. Create PIN\n",
    "    5. deposit\n",
    "    6. withdraw\n",
    "    7. Check balance\n",
    "\n",
    "'''\n",
    "\n",
    "class Atm:\n",
    "    \n",
    "    def __init__(self):\n",
    "        self.pin = \"\"\n",
    "        self.balance = 0\n",
    "        \n",
    "        self.menu()\n",
    "\n",
    "    def menu(self):\n",
    "        user_input = input(\"\"\"\n",
    "        Hello! How would you like to proceed?\n",
    "        1. Enter 1 to create PIN\n",
    "        2. Enter 2 to deposit\n",
    "        3. Enter 3 to withdraw\n",
    "        4. Enter 4 to check balance\n",
    "        5. Enter 5 to EXIT\n",
    "        \"\"\")\n",
    "\n",
    "        if user_input == \"1\":\n",
    "            print(\"You have selected to create PIN\")\n",
    "            self.create_pin()\n",
    "            self.menu()\n",
    "        elif user_input == \"2\":\n",
    "            print(\"You have selected to deposit\")\n",
    "            self.deposit()\n",
    "            self.menu()\n",
    "        elif user_input == \"3\":\n",
    "            print(\"You have selected to withdraw\")\n",
    "            self.withdraw()\n",
    "            self.menu()\n",
    "        elif user_input == \"4\":\n",
    "            print(\"You have selected to check balance\")\n",
    "            self.balance_amt()\n",
    "            self.menu()\n",
    "        elif user_input == \"5\":\n",
    "            print(\"You have selected to EXIT\")\n",
    "        else:\n",
    "            print(\"Invalid input\")\n",
    "            self.menu()\n",
    "\n",
    "    def create_pin(self):\n",
    "        self.pin = int(input(\"Please enter your PIN: \"))\n",
    "        print(\"Your PIN has been created successfully\")\n",
    "\n",
    "    def deposit(self):\n",
    "        temp = int(input(\"Please enter your PIN: \"))\n",
    "        if temp == self.pin:\n",
    "            amount = int(input(\"Please enter the amount you want to deposit: \"))\n",
    "            self.balance += amount\n",
    "            print(f\"Your balance is {self.balance}\")\n",
    "        else:\n",
    "            print(\"Invalid PIN\")\n",
    "            self.deposit()\n",
    "    \n",
    "    def withdraw(self):\n",
    "        temp = int(input(\"Please enter your PIN: \"))\n",
    "        if temp == self.pin:\n",
    "            amount = int(input(\"Enter the amount you want to withdraw: \"))\n",
    "            if amount > self.balance:\n",
    "                print(\"Check your balance and pregress again\")\n",
    "                self.menu()\n",
    "\n",
    "            else:\n",
    "                print(\"Please collect your cash\")\n",
    "                self.balance -= amount\n",
    "                print(f\"Your balance is {self.balance}\")\n",
    "            \n",
    "        else:\n",
    "            print(\"Invalid PIN\")\n",
    "            self.withdraw()\n",
    "\n",
    "    def balance_amt(self):\n",
    "        temp = int(input(\"Please enter your PIN: \"))\n",
    "        if temp == self.pin:\n",
    "            print(f\"Your balance is {self.balance}\")\n",
    "        else:\n",
    "            print(\"Invalid PIN\")\n",
    "            self.balance() \n",
    "\n",
    "\n",
    "\n",
    "        \n",
    "\n",
    "sbi = Atm()"
   ]
  },
  {
   "attachments": {},
   "cell_type": "markdown",
   "metadata": {},
   "source": [
    "### Dunder Methods / Magic Methods\n",
    "\n",
    "In Python, dunder methods are methods that allow instances of a class to interact with the built-in functions and operators of the language. The word “dunder” comes from “double underscore”, because the names of dunder methods start and end with two underscores, for example __str__ or __add__. Typically, dunder methods are not invoked directly by the programmer, making it look like they are called by magic. That is why dunder methods are also referred to as “magic methods” sometimes.\n",
    "\n",
    "https://mathspp.com/blog/pydonts/dunder-methods#fn:1\n",
    "\n"
   ]
  },
  {
   "attachments": {},
   "cell_type": "markdown",
   "metadata": {},
   "source": [
    "### Self\n",
    "\n",
    "* Self is just the object you are currently working with\n",
    "* Only a class object can access the methods of that class. Therefore we define self. "
   ]
  },
  {
   "attachments": {},
   "cell_type": "markdown",
   "metadata": {},
   "source": [
    "### Instance Variable\n",
    "Instance variable: Whichever variables we make inside the constructors, like pin, balance are the instance variable. They have different values for different objects."
   ]
  },
  {
   "attachments": {},
   "cell_type": "markdown",
   "metadata": {},
   "source": [
    "### Creating Datatypes"
   ]
  },
  {
   "cell_type": "code",
   "execution_count": 11,
   "metadata": {},
   "outputs": [
    {
     "name": "stdout",
     "output_type": "stream",
     "text": [
      "4/5\n",
      "3/4\n",
      "31/20\n",
      "1/20\n",
      "12/20\n",
      "16/15\n"
     ]
    }
   ],
   "source": [
    "#Creaing custom fraction datatype \n",
    "\n",
    "class Fraction:\n",
    "    def __init__(self, n, d):\n",
    "        self.num = n\n",
    "        self.den = d\n",
    "\n",
    "    #FRACTION\n",
    "    def __str__(self):\n",
    "        return \"{}/{}\".format(self.num, self.den)\n",
    "\n",
    "    #ADDITION\n",
    "    def __add__(self, other):\n",
    "        temp_num = self.num * other.den + other.num * self.den\n",
    "        temp_den = self.den * other.den\n",
    "\n",
    "        return \"{}/{}\".format(temp_num, temp_den)\n",
    "\n",
    "    #SUBTRACTION\n",
    "    def __sub__(self, other):\n",
    "        temp_num = self.num * other.den - other.num * self.den\n",
    "        temp_den = self.den * other.den\n",
    "\n",
    "        return \"{}/{}\".format(temp_num, temp_den)\n",
    "\n",
    "    #MULTIPLICATION\n",
    "    def __mul__(self, other):\n",
    "        temp_num = self.num * other.num\n",
    "        temp_den = self.den * other.den\n",
    "\n",
    "        return \"{}/{}\".format(temp_num, temp_den)\n",
    "\n",
    "    #DIVISION\n",
    "    def __truediv__(self, other):\n",
    "        temp_num = self.num * other.den\n",
    "        temp_den = self.den * other.num\n",
    "\n",
    "        return \"{}/{}\".format(temp_num, temp_den)\n",
    "\n",
    "x = Fraction(4,5)\n",
    "y = Fraction(3,4)\n",
    "print(x)\n",
    "print(y)\n",
    "print(x+y)\n",
    "print(x-y)\n",
    "print(x*y)\n",
    "print(x/y)"
   ]
  },
  {
   "attachments": {},
   "cell_type": "markdown",
   "metadata": {},
   "source": [
    "## <u>__Encapsulation__</u>\n",
    "\n",
    "* When we make a class, we should not leave the data in the open. Else someone could access and manipulate it.\n",
    "* For example: If we leave the PIN and the balance in the open, anyone could access and change our PIN or Balance.\n",
    "\n",
    "* The best solution is to hide the data. (In JAVA we use the access modifiers)\n",
    "* In Python we don't have private, rather than we put \n",
    ">> Double underscores (__) before the variables\n",
    "\n",
    ">>self.__pin = \"\"\n",
    "\n",
    ">>self.__balance = 0\n",
    "\n",
    "* When we change the name to __pin, the python interpreter converts it automatically to:\n",
    ">> _Atm__pin\\\n",
    ">>(_ClassName__variables)\n",
    "\n",
    "Therefore we can say that nothing in python is truely private"
   ]
  },
  {
   "cell_type": "code",
   "execution_count": 18,
   "metadata": {},
   "outputs": [
    {
     "name": "stdout",
     "output_type": "stream",
     "text": [
      "PIN created successfully\n",
      "Amount succesfully deposited\n",
      "Balance is 100.0\n",
      "Amount succesfully withdrawn\n",
      "Balance is 87.1\n",
      "PIN Changed\n",
      "Transaction session closed\n"
     ]
    }
   ],
   "source": [
    "# we can make the __pin available to others using get and set methods\n",
    "\n",
    "class Atm:\n",
    "    \n",
    "    def __init__(self):\n",
    "        self.__pin = \"\"\n",
    "        self.__balance = 0\n",
    "        self.__count = 0\n",
    "\n",
    "        self.__menu()\n",
    "\n",
    "    def get_pin(self):\n",
    "        return self.__pin\n",
    "\n",
    "    def set_pin(self, new_pin):\n",
    "        if type(new_pin) == str:\n",
    "            self.__pin = new_pin\n",
    "            print(\"PIN Changed\")\n",
    "        else:\n",
    "            print(\"Not allowed\")\n",
    "\n",
    "    def __menu(self):\n",
    "        while True:\n",
    "            user_input = int(input(\"\"\"\n",
    "            1. Create pin\n",
    "            2. Deposit\n",
    "            3. Withdraw\n",
    "            4. Check Balance\n",
    "            5. EXIT\n",
    "            \"\"\"))\n",
    "\n",
    "            if user_input == 1:\n",
    "                self.create_pin()\n",
    "            elif user_input == 2:\n",
    "                self.deposit()\n",
    "            elif user_input == 3:\n",
    "                self.withdraw()\n",
    "            elif user_input == 4:\n",
    "                self.check_balance()\n",
    "            elif user_input == 5:\n",
    "                print(\"Transaction session closed\")\n",
    "                break\n",
    "            else:\n",
    "                print(\"Invalid choice\")\n",
    "    \n",
    "    \n",
    "\n",
    "    def create_pin(self):\n",
    "        \n",
    "        if(self.__count == 0):\n",
    "            self.__pin = input(\"Enter new PIN \")\n",
    "            print(\"PIN created successfully\")\n",
    "            self.__count +=1\n",
    "\n",
    "        else:\n",
    "            old_pin = input(\"Enter old PIN\")\n",
    "            if old_pin == self.__pin:\n",
    "                self.set_pin(input(\"Enter new PIN\"))\n",
    "            else:\n",
    "                print(\"Try again\")\n",
    "\n",
    "\n",
    "    def deposit(self):\n",
    "        temp = input(\"Enter the PIN \")\n",
    "        if temp == self.__pin:\n",
    "            amt = float(input(\"Enter the amount \"))\n",
    "            self.__balance +=amt\n",
    "            print(\"Amount succesfully deposited\")\n",
    "        else:\n",
    "            print(\"Try again\")\n",
    "\n",
    "    def withdraw(self):\n",
    "        temp = input(\"Enter the PIN \")\n",
    "        if temp == self.__pin:\n",
    "            amt = float(input(\"Enter the amount \"))\n",
    "            self.__balance -=amt\n",
    "            print(\"Amount succesfully withdrawn\")\n",
    "        else:\n",
    "            print(\"Try again\")\n",
    "\n",
    "    def check_balance(self):\n",
    "        temp = input(\"Enter the PIN \")\n",
    "        if temp == self.__pin:\n",
    "            print(f\"Balance is {self.__balance}\")\n",
    "        else:\n",
    "            print(\"Try again\")\n",
    "\n",
    "        \n",
    "\n",
    "sbi = Atm()"
   ]
  },
  {
   "attachments": {},
   "cell_type": "markdown",
   "metadata": {},
   "source": [
    "```python\n",
    "# Class Diagram\n",
    "\n",
    "+-----------------------------------+\n",
    "|               Atm                 |\n",
    "+-----------------------------------+\n",
    "| - __pin           : str           |\n",
    "| - __balance       : float         |\n",
    "| - __count         : int           |\n",
    "+-----------------------------------+\n",
    "| + __init__()                      |\n",
    "| + get_pin()       : str           |\n",
    "| + set_pin(new_pin : str) : void   |\n",
    "| + __menu()        : void          |\n",
    "| + create_pin()    : void          |\n",
    "| + deposit()       : void          |\n",
    "| + withdraw()      : void          |\n",
    "| + check_balance() : void          |\n",
    "+-----------------------------------+\n"
   ]
  },
  {
   "attachments": {},
   "cell_type": "markdown",
   "metadata": {},
   "source": [
    "### Reference variable\n",
    "\n",
    "* While creating an object, the variable in which it is stored is called the reference variable\n",
    ">> sbi = Atm()\\\n",
    ">> Here sbi is the reference variable"
   ]
  },
  {
   "attachments": {},
   "cell_type": "markdown",
   "metadata": {},
   "source": [
    "### Pass by reference"
   ]
  },
  {
   "cell_type": "code",
   "execution_count": 2,
   "metadata": {},
   "outputs": [
    {
     "name": "stdout",
     "output_type": "stream",
     "text": [
      "Jack\n"
     ]
    }
   ],
   "source": [
    "class Customer:\n",
    "    def __init__(self, name):\n",
    "        self.name = name\n",
    "    \n",
    "cust = Customer(\"Jack\")\n",
    "print(cust.name)"
   ]
  },
  {
   "cell_type": "code",
   "execution_count": 20,
   "metadata": {},
   "outputs": [
    {
     "name": "stdout",
     "output_type": "stream",
     "text": [
      "Hello Udit sir\n",
      "Mars\n"
     ]
    }
   ],
   "source": [
    "class Customer:\n",
    "    def __init__(self, name, gender):\n",
    "        self.name = name\n",
    "        self.gender = gender\n",
    "\n",
    "    \n",
    "def greet(person):\n",
    "    if person.gender == \"Male\":\n",
    "        print(f\"Hello {person.name} sir\")\n",
    "    else:\n",
    "        print(f\"Hello {person.name} maam\")\n",
    "\n",
    "    return Customer(\"Mars\", \"Female\")\n",
    "\n",
    "guest = Customer(input(\"Enter a name \"), input(\"Enter Male / Female\"))\n",
    "\n",
    "print(greet(guest).name)"
   ]
  },
  {
   "attachments": {},
   "cell_type": "markdown",
   "metadata": {},
   "source": [
    "We can notice in the below example that the id of the object and the parameter we call in the greet() are the same. This is because, the parameter in the greet() is referncing to the same object. This is pass by reference"
   ]
  },
  {
   "cell_type": "code",
   "execution_count": 25,
   "metadata": {},
   "outputs": [
    {
     "name": "stdout",
     "output_type": "stream",
     "text": [
      "ID of person 4475738448\n",
      "ID of customer in greet function 4475738448\n"
     ]
    },
    {
     "data": {
      "text/plain": [
       "'Hello Udit'"
      ]
     },
     "execution_count": 25,
     "metadata": {},
     "output_type": "execute_result"
    }
   ],
   "source": [
    "#Simpler approach\n",
    "\n",
    "class Customer:\n",
    "    def __init__(self, name):\n",
    "        self.name = name\n",
    "\n",
    "def greet(customer):\n",
    "    print(f\"ID of customer in greet function {id(customer)}\")\n",
    "    return f\"Hello {customer.name}\"\n",
    "\n",
    "\n",
    "person = Customer(\"Udit\")\n",
    "print(f\"ID of person {id(person)}\")\n",
    "greet(person)"
   ]
  },
  {
   "attachments": {},
   "cell_type": "markdown",
   "metadata": {},
   "source": [
    "If you make changes in the object that is passed to a function and that function edits the object, there will be the same changes in the original object\n",
    "\n",
    "* In Python, the objects of class are mutable"
   ]
  },
  {
   "cell_type": "code",
   "execution_count": 27,
   "metadata": {},
   "outputs": [
    {
     "name": "stdout",
     "output_type": "stream",
     "text": [
      "4469506896\n",
      "Udit\n",
      "4469506896\n",
      "4469506896\n",
      "Mars\n"
     ]
    }
   ],
   "source": [
    "class Customer:\n",
    "    def __init__(self, name):\n",
    "        self.name = name\n",
    "\n",
    "def greet(customer):\n",
    "    print(id(cust))\n",
    "\n",
    "    customer.name = \"Mars\"\n",
    "    print(id(cust))\n",
    "\n",
    "\n",
    "cust = Customer(\"Udit\")\n",
    "print(id(cust))\n",
    "print(cust.name)\n",
    "\n",
    "greet(cust)\n",
    "print(cust.name)"
   ]
  },
  {
   "attachments": {},
   "cell_type": "markdown",
   "metadata": {},
   "source": [
    "### Collection of objects"
   ]
  },
  {
   "cell_type": "code",
   "execution_count": 29,
   "metadata": {},
   "outputs": [
    {
     "name": "stdout",
     "output_type": "stream",
     "text": [
      "Hi I am Mars and I am 20 years old\n",
      "Hi I am TeaZZee and I am 23 years old\n",
      "Hi I am Iki and I am 1 years old\n"
     ]
    }
   ],
   "source": [
    "class Names:\n",
    "    def __init__(self, name, age):\n",
    "        self.name = name\n",
    "        self.age = age\n",
    "\n",
    "    def intro(self):\n",
    "        print(f\"Hi I am {self.name} and I am {self.age} years old\")\n",
    "\n",
    "n1 = Names(\"Mars\", 20)\n",
    "n2 = Names(\"TeaZZee\", 23)\n",
    "n3 = Names(\"Iki\", 1)\n",
    "\n",
    "l = [n1, n2, n3]\n",
    "for i in l:\n",
    "    i.intro()"
   ]
  },
  {
   "attachments": {},
   "cell_type": "markdown",
   "metadata": {},
   "source": [
    "### Static\n",
    "\n",
    "* There are instance variable which has different value for different objects. Like PIN, Balance\n",
    "\n",
    "* But sometimes we want some variable that should be same for every object we make and increase the value as we keep increasing the object count. Like a counter. These are called __Static variable / Class variable__"
   ]
  },
  {
   "cell_type": "code",
   "execution_count": 14,
   "metadata": {},
   "outputs": [
    {
     "name": "stdout",
     "output_type": "stream",
     "text": [
      "1\n",
      "2\n",
      "3\n",
      "4\n",
      "4\n",
      "4\n",
      "4\n"
     ]
    }
   ],
   "source": [
    "class StaticExample:\n",
    "\n",
    "    #Static/Class Variable\n",
    "    counter = 1\n",
    "\n",
    "    def __init__(self):\n",
    "        \n",
    "        self.sno = StaticExample.counter\n",
    "\n",
    "        StaticExample.counter += 1\n",
    "\n",
    "c1 = StaticExample()\n",
    "c2 = StaticExample()\n",
    "c3 = StaticExample()\n",
    "\n",
    "print(c1.sno)\n",
    "print(c2.sno)\n",
    "print(c3.sno)\n",
    "\n",
    "print(c1.counter)\n",
    "print(c2.counter)\n",
    "print(c3.counter)\n",
    "\n",
    "print(StaticExample.counter)"
   ]
  },
  {
   "cell_type": "code",
   "execution_count": 35,
   "metadata": {},
   "outputs": [
    {
     "data": {
      "text/plain": [
       "1"
      ]
     },
     "execution_count": 35,
     "metadata": {},
     "output_type": "execute_result"
    }
   ],
   "source": [
    "# If we want to access the counter, we can make get and set methods\n",
    "\n",
    "class StaticExample:\n",
    "\n",
    "    #Static/Class Variable\n",
    "    __counter = 1\n",
    "\n",
    "    def __init__(self):\n",
    "        \n",
    "        self.sno = StaticExample.__counter\n",
    "\n",
    "        StaticExample.__counter += 1\n",
    "\n",
    "    @staticmethod\n",
    "    def get_counter():\n",
    "        return StaticExample.__counter\n",
    "\n",
    "    @staticmethod\n",
    "    def set_counter(new):\n",
    "        if type(new) == int:\n",
    "            StaticExample.__counter = new\n",
    "\n",
    "\n",
    "StaticExample.get_counter()\n",
    "\n"
   ]
  },
  {
   "cell_type": "code",
   "execution_count": 33,
   "metadata": {},
   "outputs": [],
   "source": [
    "StaticExample.set_counter(100)"
   ]
  },
  {
   "cell_type": "code",
   "execution_count": 34,
   "metadata": {},
   "outputs": [
    {
     "data": {
      "text/plain": [
       "100"
      ]
     },
     "execution_count": 34,
     "metadata": {},
     "output_type": "execute_result"
    }
   ],
   "source": [
    "StaticExample.get_counter()"
   ]
  },
  {
   "attachments": {},
   "cell_type": "markdown",
   "metadata": {},
   "source": [
    "## Relationship between classes\n",
    "\n",
    "* There exists two types of relationships between classes\n",
    "     * Aggregation (Has - A)\\\n",
    "          Customer -->(HAS - A)--> Address     \n",
    "\n",
    "     * Inheritance (Is - A)\n",
    "          Vehicle <--(IS - A)<-- Car"
   ]
  },
  {
   "cell_type": "code",
   "execution_count": 16,
   "metadata": {},
   "outputs": [
    {
     "name": "stdout",
     "output_type": "stream",
     "text": [
      "<__main__.Customer object at 0x1084c8590>\n",
      "Mars\n",
      "<__main__.Address object at 0x1084cb3d0>\n",
      "Kolkata\n"
     ]
    }
   ],
   "source": [
    "class Customer:\n",
    "    def __init__(self, name, gender, address):\n",
    "        self.name = name\n",
    "        self.gender = gender\n",
    "        self.address = address\n",
    "\n",
    "\n",
    "class Address:\n",
    "    def __init__(self, city, pincode, state):\n",
    "        self.city = city\n",
    "        self.pincode = pincode\n",
    "        self.state = state\n",
    "\n",
    "add = Address(\"Kolkata\", 700156, \"WB\")\n",
    "cust = Customer(\"Mars\", \"Female\", add)\n",
    "\n",
    "print(cust)\n",
    "print(cust.name)\n",
    "print(cust.address)\n",
    "print(cust.address.city)\n",
    "\n"
   ]
  },
  {
   "cell_type": "code",
   "execution_count": 25,
   "metadata": {},
   "outputs": [
    {
     "name": "stdout",
     "output_type": "stream",
     "text": [
      "Mars\n",
      "Kolkata\n",
      "TZ\n",
      "Das Gram\n"
     ]
    }
   ],
   "source": [
    "class Customer:\n",
    "    def __init__(self, name, gender, address):\n",
    "        self.name = name\n",
    "        self.gender = gender\n",
    "        self.address = address\n",
    "\n",
    "    def edit_profile(self, new_name, new_city, new_pincode, new_state):\n",
    "        self.name = new_name\n",
    "        self.address.change_address(new_city, new_pincode, new_state)\n",
    "\n",
    "\n",
    "\n",
    "class Address:\n",
    "    def __init__(self, city, pincode, state):\n",
    "        self.city = city\n",
    "        self.pincode = pincode\n",
    "        self.state = state\n",
    "\n",
    "\n",
    "    def change_address(self, new_city, new_pincode, new_state):\n",
    "        self.city = new_city\n",
    "        self.pincode = new_pincode\n",
    "        self.state = new_state\n",
    "\n",
    "add = Address(\"Kolkata\", 700156, \"WB\")\n",
    "cust = Customer(\"Mars\", \"Female\", add)\n",
    "\n",
    "print(cust.name)\n",
    "print(cust.address.city)\n",
    "\n",
    "cust.edit_profile(\"TZ\", \"Das Gram\", 833300, \"Sau Gram\")\n",
    "\n",
    "print(cust.name)\n",
    "print(cust.address.city)"
   ]
  },
  {
   "attachments": {},
   "cell_type": "markdown",
   "metadata": {},
   "source": [
    "## <u>__Inheritance__</u>\n",
    "\n",
    "* A class can inherit the values and attributes of another class. Suppose there is an online learning platform. There are 2 classes user and student. In user we can store the login and register so that student class can inherit from it.\n",
    "\n",
    "```python\n",
    "+-----------------------------------+\n",
    "|                User               |\n",
    "+-----------------------------------+\n",
    "| - login           : str           |\n",
    "| - register        : str           |\n",
    "+-----------------------------------+\n",
    "| + __init__()                      |\n",
    "| + get_login()     : str           |\n",
    "| + set_login(login : str) : void   |\n",
    "| + get_register()  : str           |\n",
    "| + set_register(register : str):void|\n",
    "+-----------------------------------+\n",
    "             ^\n",
    "             |\n",
    "             |\n",
    "+-----------------------------------+\n",
    "|              Student              |\n",
    "+-----------------------------------+\n",
    "|                                   |\n",
    "+-----------------------------------+\n",
    "\n",
    "```\n",
    "\n",
    "\n",
    "\n",
    "* The biggest benefit inheritance gives us is the code reuseability\n",
    "* Inheritance only works in one direction: Student can inherit from the user, but user can't.\n",
    "* When a class inherits from other class, it inherits:\n",
    "    1. Data members\n",
    "    2. Member functions (Methods)\n",
    "    3. Constructor\n",
    "</br>\n",
    "</br>\n",
    "* Private members are not inherited\n"
   ]
  },
  {
   "attachments": {},
   "cell_type": "markdown",
   "metadata": {},
   "source": [
    "There are 4 types of inheritance in Python\n",
    "1. Single level inheritance\n",
    "2. Multi level inheritance\n",
    "3. Hierarchial inheritance\n",
    "4. Multiple inheritance\n",
    "\n",
    "There is also hybrid inheritance which is just the combination of the 4."
   ]
  },
  {
   "cell_type": "code",
   "execution_count": 2,
   "metadata": {},
   "outputs": [
    {
     "name": "stdout",
     "output_type": "stream",
     "text": [
      "enroll\n",
      "review\n",
      "Login\n",
      "Register\n"
     ]
    }
   ],
   "source": [
    "class User:\n",
    "    def login(self):\n",
    "        print(\"Login\")\n",
    "\n",
    "    def register(self):\n",
    "        print(\"Register\")\n",
    "\n",
    "class Student(User): #Student class is a subclass of User class\n",
    "    def enroll(self):\n",
    "        print(\"enroll\")\n",
    "\n",
    "    def review(self):\n",
    "        print(\"review\")\n",
    "\n",
    "\n",
    "stu1 = Student()\n",
    "\n",
    "stu1.enroll()\n",
    "stu1.review()\n",
    "stu1.login()\n",
    "stu1.register()\n",
    "\n",
    "\n",
    "# u1 = User()\n",
    "# u1.enroll() is not possible because parents cannot inherit child class methods"
   ]
  },
  {
   "attachments": {},
   "cell_type": "markdown",
   "metadata": {},
   "source": [
    "### Inheriting constructor"
   ]
  },
  {
   "cell_type": "code",
   "execution_count": 6,
   "metadata": {},
   "outputs": [
    {
     "name": "stdout",
     "output_type": "stream",
     "text": [
      "This is a constructor method\n",
      "Nokia\n",
      "Buying phone\n"
     ]
    }
   ],
   "source": [
    "class Phone:\n",
    "    def __init__(self, brand, price):\n",
    "        print(\"This is a constructor method\")\n",
    "        self.brand = brand\n",
    "        self.price = price\n",
    "\n",
    "    def buy(self):\n",
    "        print(\"Buying phone\")\n",
    "\n",
    "    def sell(self):\n",
    "        print(\"Selling Phone\")\n",
    "\n",
    "class FeaturePhone(Phone):\n",
    "    pass\n",
    "\n",
    "class SmartPhone(Phone):\n",
    "    pass\n",
    "\n",
    "s = SmartPhone(\"Nokia\", 3310)\n",
    "print(s.brand)\n",
    "s.buy()"
   ]
  },
  {
   "attachments": {},
   "cell_type": "markdown",
   "metadata": {},
   "source": [
    "## <u>__Polimorphism__</u>\n",
    "\n",
    "It consists of three things:\n",
    "1. Method overriding\n",
    "2. Method overloading\n",
    "3. Operator overloading\n"
   ]
  },
  {
   "cell_type": "code",
   "execution_count": 8,
   "metadata": {},
   "outputs": [
    {
     "name": "stdout",
     "output_type": "stream",
     "text": [
      "Buying a smartphone\n"
     ]
    }
   ],
   "source": [
    "#Method overriding\n",
    "class Phone:\n",
    "    def __init__(self, brand, price):\n",
    "        self.brand = brand\n",
    "        self.price = price\n",
    "\n",
    "    def buy(self):\n",
    "        print(\"Buying a phone\")\n",
    "\n",
    "class Smartphone(Phone):\n",
    "    def buy(self):\n",
    "        print(\"Buying a smartphone\")\n",
    "\n",
    "s = Smartphone(\"Nokia\", 3310)\n",
    "\n",
    "s.buy()\n",
    "# This calls the buy() method in the Smartphone class which is its own class.\n",
    "# This is known as method overriding"
   ]
  },
  {
   "cell_type": "code",
   "execution_count": 15,
   "metadata": {},
   "outputs": [
    {
     "ename": "TypeError",
     "evalue": "Phone.buy() missing 1 required positional argument: 'price'",
     "output_type": "error",
     "traceback": [
      "\u001b[0;31m---------------------------------------------------------------------------\u001b[0m",
      "\u001b[0;31mTypeError\u001b[0m                                 Traceback (most recent call last)",
      "Cell \u001b[0;32mIn[15], line 17\u001b[0m\n\u001b[1;32m     12\u001b[0m         \u001b[39mprint\u001b[39m(\u001b[39mf\u001b[39m\u001b[39m\"\u001b[39m\u001b[39mBuying a phone under \u001b[39m\u001b[39m{\u001b[39;00m\u001b[39mself\u001b[39m\u001b[39m.\u001b[39mprice\u001b[39m}\u001b[39;00m\u001b[39m\"\u001b[39m)\n\u001b[1;32m     15\u001b[0m s \u001b[39m=\u001b[39m Phone(\u001b[39m\"\u001b[39m\u001b[39mNokia\u001b[39m\u001b[39m\"\u001b[39m, \u001b[39m3310\u001b[39m)\n\u001b[0;32m---> 17\u001b[0m s\u001b[39m.\u001b[39;49mbuy()\n\u001b[1;32m     18\u001b[0m s\u001b[39m.\u001b[39mbuy(\u001b[39m2000\u001b[39m)\n\u001b[1;32m     20\u001b[0m \u001b[39m# This code doesnot work because in Python there is no Method Overlaoding\u001b[39;00m\n\u001b[1;32m     21\u001b[0m \u001b[39m# It is what it is\u001b[39;00m\n",
      "\u001b[0;31mTypeError\u001b[0m: Phone.buy() missing 1 required positional argument: 'price'"
     ]
    }
   ],
   "source": [
    "#Method overriding\n",
    "\n",
    "class Phone:\n",
    "    def __init__(self, brand, price):\n",
    "        self.brand = brand\n",
    "        self.price = price\n",
    "\n",
    "    def buy(self):\n",
    "        print(\"Buying a phone\")\n",
    "\n",
    "    def buy(self, price):\n",
    "        print(f\"Buying a phone under {self.price}\")\n",
    "\n",
    "\n",
    "s = Phone(\"Nokia\", 3310)\n",
    "\n",
    "s.buy()\n",
    "s.buy(2000)\n",
    "\n",
    "# This code doesnot work because in Python there is no Method Overlaoding\n",
    "# It is what it is"
   ]
  },
  {
   "cell_type": "code",
   "execution_count": 31,
   "metadata": {},
   "outputs": [
    {
     "name": "stdout",
     "output_type": "stream",
     "text": [
      "Circle = 50.2400\n",
      "Rectangle =  20\n"
     ]
    }
   ],
   "source": [
    "# But we can go around it using default arguments\n",
    "\n",
    "class Geometry:\n",
    "\n",
    "    def area(self, a, b = 0):\n",
    "        if b == 0:\n",
    "            print(\"Circle = %5.4f\" %(3.14*a*a))\n",
    "\n",
    "        else:\n",
    "            print(\"Rectangle = \", (a*b))\n",
    "\n",
    "obj = Geometry()\n",
    "obj.area(4)\n",
    "obj.area(4,5)\n",
    "\n"
   ]
  },
  {
   "attachments": {},
   "cell_type": "markdown",
   "metadata": {},
   "source": [
    "### Object Overloading\n",
    "\n",
    "In Python, object overloading refers to the ability to define or redefine certain operations or behaviors for objects of a class. This is achieved using special methods or functions that are predefined in Python, also known as \"magic\" or \"dunder\" methods.\n",
    "\n",
    "[Dunder Methods / Magic Methods](###Dunder-Methods-/-Magic-Methods)\n",
    "\n",
    "Suppose we make ```__add__()``` method but instead of adding it does something else. Thus when we call the operator + it behaves as we defined it and not as its default behavior"
   ]
  },
  {
   "attachments": {},
   "cell_type": "markdown",
   "metadata": {},
   "source": [
    "### Super Method\n",
    "* It is is used to invoke / access the Parent methods and Parent constructors\n",
    "* Super cannou be used outside class\n",
    "* We cannot access the attributes using super \n",
    "* If super is called inside a constructor, it sould be the first statement"
   ]
  },
  {
   "cell_type": "code",
   "execution_count": 12,
   "metadata": {},
   "outputs": [
    {
     "name": "stdout",
     "output_type": "stream",
     "text": [
      "Inside Phone constructor\n",
      "Buying a smartphone\n",
      "Buying a phone\n"
     ]
    }
   ],
   "source": [
    "class Phone:\n",
    "    def __init__(self, brand, price):\n",
    "        print(\"Inside Phone constructor\")\n",
    "        self.brand = brand\n",
    "        self.price = price\n",
    "\n",
    "    def buy(self):\n",
    "        print(\"Buying a phone\")\n",
    "\n",
    "class Smartphone(Phone):\n",
    "    def buy(self):\n",
    "        print(\"Buying a smartphone\")\n",
    "        super().buy()\n",
    "\n",
    "s = Smartphone(\"Nokia\", 3310)\n",
    "\n",
    "s.buy()"
   ]
  },
  {
   "attachments": {},
   "cell_type": "markdown",
   "metadata": {},
   "source": [
    "### Method resolution order (MRO)\n",
    "In case of conflict during inheritance, the class which is inherited first in the child class, will be called when there exists a method with same name in both of the classes that a child class is inheriting from."
   ]
  },
  {
   "cell_type": "code",
   "execution_count": 18,
   "metadata": {},
   "outputs": [
    {
     "name": "stdout",
     "output_type": "stream",
     "text": [
      "Inside Phone constructor\n",
      "Buying inside Product class\n"
     ]
    }
   ],
   "source": [
    "class Phone:\n",
    "    def __init__(self, brand, price):\n",
    "        print(\"Inside Phone constructor\")\n",
    "        self.__brand = brand\n",
    "        self.__price = price\n",
    "\n",
    "    def buy(self):\n",
    "        print(\"Buying inside Phone class\")\n",
    "\n",
    "class Product:\n",
    "    def buy(self):\n",
    "        print(\"Buying inside Product class\")\n",
    "\n",
    "class SmartPhone(Product, Phone):\n",
    "    #Since the Product class is inherited first, it is printed\n",
    "    pass\n",
    "\n",
    "s = SmartPhone(\"Nokia\", 3310)\n",
    "s.buy()"
   ]
  },
  {
   "attachments": {},
   "cell_type": "markdown",
   "metadata": {},
   "source": [
    "## <u>__Abstraction__</u>\n",
    "\n",
    "Abstraction is achieved by using abstract classes and interfaces. An abstract class is a class that cannot be instantiated and serves as a blueprint for other classes. It may contain abstract methods (methods without an implementation) that must be implemented by its subclasses. An interface, on the other hand, is a collection of abstract methods that defines a contract for the classes that implement it."
   ]
  },
  {
   "cell_type": "code",
   "execution_count": 36,
   "metadata": {},
   "outputs": [
    {
     "name": "stdout",
     "output_type": "stream",
     "text": [
      "Buddy\n",
      "Woof!\n",
      "Whiskers\n",
      "Meow!\n"
     ]
    }
   ],
   "source": [
    "from abc import ABC, abstractmethod\n",
    "\n",
    "class Animal(ABC):\n",
    "    def __init__(self, name):\n",
    "        self.name = name\n",
    "\n",
    "    @abstractmethod\n",
    "    def sound(self):\n",
    "        pass\n",
    "\n",
    "class Dog(Animal):\n",
    "    def sound(self):\n",
    "        return \"Woof!\"\n",
    "\n",
    "class Cat(Animal):\n",
    "    def sound(self):\n",
    "        return \"Meow!\"\n",
    "\n",
    "dog = Dog(\"Buddy\")\n",
    "print(dog.name)     # Output: Buddy\n",
    "print(dog.sound())  # Output: Woof!\n",
    "\n",
    "cat = Cat(\"Whiskers\")\n",
    "print(cat.name)     # Output: Whiskers\n",
    "print(cat.sound())  # Output: Meow!\n"
   ]
  }
 ],
 "metadata": {
  "kernelspec": {
   "display_name": "Python 3",
   "language": "python",
   "name": "python3"
  },
  "language_info": {
   "codemirror_mode": {
    "name": "ipython",
    "version": 3
   },
   "file_extension": ".py",
   "mimetype": "text/x-python",
   "name": "python",
   "nbconvert_exporter": "python",
   "pygments_lexer": "ipython3",
   "version": "3.11.2"
  },
  "orig_nbformat": 4
 },
 "nbformat": 4,
 "nbformat_minor": 2
}
