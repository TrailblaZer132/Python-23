{
 "cells": [
  {
   "attachments": {},
   "cell_type": "markdown",
   "metadata": {},
   "source": [
    "# DSA using Python\n",
    "_<span style=\"color: rgba(239, 239, 240, 0.2);\">by TrailblaZer132</span>_"
   ]
  },
  {
   "attachments": {},
   "cell_type": "markdown",
   "metadata": {},
   "source": [
    "## __Time Complexity__"
   ]
  },
  {
   "attachments": {},
   "cell_type": "markdown",
   "metadata": {},
   "source": [
    "When we code in python, we should be able to say that how much effiient is the code in accordance with the time complexity\n",
    "\n",
    "Let us focus on three techniques we can use to do so:\n",
    "1. Measuring time to execute\n",
    "2. Counting operations involved\n",
    "3. Abstract notion of order of growth"
   ]
  },
  {
   "cell_type": "code",
   "execution_count": 11,
   "metadata": {},
   "outputs": [
    {
     "name": "stdout",
     "output_type": "stream",
     "text": [
      "1\n",
      "2\n",
      "3\n",
      "4\n",
      "5\n",
      "6\n",
      "7\n",
      "8\n",
      "9\n",
      "Time taken:  0.00011491775512695312\n"
     ]
    }
   ],
   "source": [
    "# 1. Measuring time to execut \n",
    "\n",
    "import time\n",
    "\n",
    "start = time.time()\n",
    "\n",
    "for i in range(1, 10):\n",
    "    print(i)\n",
    "\n",
    "print(\"Time taken: \", (time.time() - start))"
   ]
  },
  {
   "attachments": {},
   "cell_type": "markdown",
   "metadata": {},
   "source": [
    " `NOTE:` \n",
    " * We notice that although the approach tells us exactly what we need, it is not an efficient way to tell the efficiency of the program because the time taken would change with many factors like processor, speed, etc. \n",
    " * There is no consistancy.\n",
    " * Even if we make some minor changes such as using while loop instead of for loop, again the time taken changes.\n",
    " * Time taken will vary for different inputs but there is no relationship"
   ]
  },
  {
   "cell_type": "code",
   "execution_count": 12,
   "metadata": {},
   "outputs": [],
   "source": [
    "# 2. Counting operations\n",
    "\n",
    "def c_to_f(c):\n",
    "    return c*9.0/5+32\n",
    "    # 3 operations\n",
    "\n",
    "def mysum(x):\n",
    "    total = 0 # 1op\n",
    "    for i in range(x+1): # 1op\n",
    "        total += 1 # input * loop\n",
    "    return total\n"
   ]
  },
  {
   "attachments": {},
   "cell_type": "markdown",
   "metadata": {},
   "source": [
    "`NOTE:` \n",
    " * We can see that in this approach, there is a relationship between the input and time\n",
    " * Different machines will take same time\n",
    " * But still time varies when implimentation changes. If we apply while loop in place of for loop, then the time taken will also be altered"
   ]
  },
  {
   "attachments": {},
   "cell_type": "markdown",
   "metadata": {},
   "source": [
    "What do we want in an algorithm:\n",
    "1. We want to evaluate the algorithm\n",
    "2. We want to evaluate scalability\n",
    "3. We want to evaluate in terms of input size"
   ]
  },
  {
   "attachments": {},
   "cell_type": "markdown",
   "metadata": {},
   "source": [
    "### Order of growth\n",
    "\n",
    "Goals:\n",
    " * We want to evaluate program's efficiency when the input is very large\n",
    " * We want to express the growth of program's run time as input size grows\n",
    " * We want to put an upper bound on growth - as tight as possible\n",
    " * We do not need to be precise: \"Order of\" not \"Exact\"\n",
    " * We will look at largest factors in run time (Which section of the program will take the longest to run)\n",
    " * Thus generally we want tight upper bound on growth, as function of size of input, in Worst Case"
   ]
  },
  {
   "cell_type": "code",
   "execution_count": 13,
   "metadata": {},
   "outputs": [],
   "source": [
    "# Order of growth\n",
    "\n",
    "def fact_iter(n):\n",
    "    answer = 1 #1op\n",
    "    while n>1: #1op\n",
    "        answer *= n #2op\n",
    "        n -= 1 #2op\n",
    "    return answer #1op\n",
    "\n",
    "# Operations: 1 + 5n + 1\n",
    "# Therefore O(n)"
   ]
  },
  {
   "attachments": {},
   "cell_type": "markdown",
   "metadata": {},
   "source": [
    "``Example:``\\\n",
    "Suppose the following equation of a program is given:\\\n",
    "n<sup>2</sup> + 2n + 2\\\n",
    "n<sup>2</sup> + 2n\\\n",
    "n<sup>2</sup> + n\\\n",
    "\n",
    "Now we will take the bigger degree of power in consideration.\n",
    "\n",
    "Therefore it is O(n<sup>2</sup>)"
   ]
  },
  {
   "attachments": {},
   "cell_type": "markdown",
   "metadata": {},
   "source": [
    "`Note:` \\\n",
    " Complexities:\\\n",
    " O(1) < O(log n) < O(n) < O(n log n) < O(n<sup>2</sup>) < O(2<sup>n</sup>)"
   ]
  }
 ],
 "metadata": {
  "kernelspec": {
   "display_name": "Python 3",
   "language": "python",
   "name": "python3"
  },
  "language_info": {
   "codemirror_mode": {
    "name": "ipython",
    "version": 3
   },
   "file_extension": ".py",
   "mimetype": "text/x-python",
   "name": "python",
   "nbconvert_exporter": "python",
   "pygments_lexer": "ipython3",
   "version": "3.11.2"
  },
  "orig_nbformat": 4
 },
 "nbformat": 4,
 "nbformat_minor": 2
}
