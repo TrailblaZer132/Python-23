{
 "cells": [
  {
   "attachments": {},
   "cell_type": "markdown",
   "metadata": {},
   "source": [
    "# Getting Started with Python (version 3.11.2)\n",
    "_<span style=\"color: rgba(239, 239, 240, 0.2);\">by TrailblaZer132</span>_"
   ]
  },
  {
   "cell_type": "code",
   "execution_count": 1,
   "metadata": {},
   "outputs": [
    {
     "name": "stdout",
     "output_type": "stream",
     "text": [
      "Hello World\n"
     ]
    }
   ],
   "source": [
    "#Hello World\n",
    "print(\"Hello World\")"
   ]
  },
  {
   "cell_type": "code",
   "execution_count": 2,
   "metadata": {},
   "outputs": [
    {
     "name": "stdout",
     "output_type": "stream",
     "text": [
      "My name is Mars and I am 20 years old.\n"
     ]
    }
   ],
   "source": [
    "#Print your name and age\n",
    "name = \"Mars\"\n",
    "age = 20\n",
    "print(\"My name is\", name, \"and I am\", age, \"years old.\")\n",
    "\n",
    "#Print your name and age using formatted string\n",
    "print(f\"My name is {name} and I am {age} years old.\")\n",
    "\n",
    "#Print your name and age using string concatenation\n",
    "print(\"My name is \" + name + \" and I am \" + str(age) + \" years old.\")"
   ]
  },
  {
   "cell_type": "code",
   "execution_count": 5,
   "metadata": {},
   "outputs": [
    {
     "name": "stdout",
     "output_type": "stream",
     "text": [
      "0\n",
      "0.0\n",
      "False\n",
      "\n",
      "[]\n",
      "()\n",
      "{}\n"
     ]
    }
   ],
   "source": [
    "#data types\n",
    "print(int())\n",
    "print(float())\n",
    "print(bool())\n",
    "print(str())\n",
    "print(list())\n",
    "print(tuple())\n",
    "print(dict())\n"
   ]
  },
  {
   "cell_type": "code",
   "execution_count": 6,
   "metadata": {},
   "outputs": [
    {
     "name": "stdout",
     "output_type": "stream",
     "text": [
      "3\n",
      "3.0\n",
      "True\n",
      "1\n",
      "['H', 'e', 'l', 'l', 'o']\n",
      "(1, 2, 3)\n",
      "{1: 2, 3: 4}\n"
     ]
    }
   ],
   "source": [
    "#type casting\n",
    "print(int(3.14))\n",
    "print(float(3))\n",
    "print(bool(1))\n",
    "print(str(1))\n",
    "print(list(\"Hello\"))\n",
    "print(tuple([1,2,3]))\n",
    "print(dict([[1,2],[3,4]]))"
   ]
  },
  {
   "cell_type": "code",
   "execution_count": 9,
   "metadata": {},
   "outputs": [
    {
     "name": "stdout",
     "output_type": "stream",
     "text": [
      "Hello Mars!\n"
     ]
    }
   ],
   "source": [
    "#input\n",
    "name = input(\"Enter your name: \")\n",
    "print(f\"Hello {name}!\")"
   ]
  },
  {
   "cell_type": "code",
   "execution_count": 10,
   "metadata": {},
   "outputs": [
    {
     "name": "stdout",
     "output_type": "stream",
     "text": [
      "You are 20 years old.\n"
     ]
    }
   ],
   "source": [
    "#input with type casting\n",
    "# We need to convert the input to int because input() returns a string\n",
    "age = int(input(\"Enter your age: \"))\n",
    "print(f\"You are {age} years old.\")\n"
   ]
  },
  {
   "cell_type": "code",
   "execution_count": 11,
   "metadata": {},
   "outputs": [
    {
     "name": "stdout",
     "output_type": "stream",
     "text": [
      "In 10 years, you will be 20 years old.\n"
     ]
    }
   ],
   "source": [
    "#Conversion from old age to new age\n",
    "old_age = int(input(\"Enter your age: \"))\n",
    "new_age = old_age + 10\n",
    "print(f\"In 10 years, you will be {new_age} years old.\")"
   ]
  },
  {
   "cell_type": "code",
   "execution_count": 12,
   "metadata": {},
   "outputs": [
    {
     "name": "stdout",
     "output_type": "stream",
     "text": [
      "The sum of 2 and 3 is 5.\n"
     ]
    }
   ],
   "source": [
    "#sum of two numbers\n",
    "num1 = int(input(\"Enter first number: \"))\n",
    "num2 = int(input(\"Enter second number: \"))\n",
    "print(f\"The sum of {num1} and {num2} is {num1 + num2}.\")"
   ]
  },
  {
   "cell_type": "code",
   "execution_count": 21,
   "metadata": {},
   "outputs": [
    {
     "name": "stdout",
     "output_type": "stream",
     "text": [
      "MARS\n",
      "mars\n",
      "False\n",
      "False\n",
      "1\n",
      "Mars the planet\n",
      "2\n",
      "9\n",
      "-1\n"
     ]
    }
   ],
   "source": [
    "#strings\n",
    "\n",
    "name = \"Mars\"\n",
    "string = \"Hello World\"\n",
    "print(name.upper())\n",
    "print(name.lower())\n",
    "\n",
    "print(name.isupper())\n",
    "print(name.islower())\n",
    "\n",
    "print(name.find(\"ar\")) #returns the index of the first occurrence of the substring \n",
    "\n",
    "print(name.replace(\"ars\", \"ars the planet\")) #replaces the first string with the second string\n",
    "\n",
    "print(name.find(\"r\")) #returns the index of the first occurrence of the character\n",
    "\n",
    "print(string.find(\"l\", 4)) #returns the index of the first occurrence of the character after the index 2\n",
    "\n",
    "print(name.find(\"z\")) #returns -1 if the substring is not found"
   ]
  },
  {
   "cell_type": "code",
   "execution_count": 26,
   "metadata": {},
   "outputs": [
    {
     "name": "stdout",
     "output_type": "stream",
     "text": [
      "Trail\n",
      "blazer\n",
      "Trail\n",
      "lazer\n",
      "Trailb\n",
      "rezalbliarT\n",
      "Tallzr\n"
     ]
    }
   ],
   "source": [
    "#slicing\n",
    "\n",
    "name = \"Trailblazer\"\n",
    "\n",
    "print(name[0:5]) #prints the characters from index 0 to index 4\n",
    "print(name[5:]) #prints the characters from index 5 to the end\n",
    "print(name[:5]) #prints the characters from the beginning to index 4\n",
    "print(name[-5:]) #prints the last 5 characters\n",
    "print(name[:-5]) #prints the characters from the beginning to the 5th last character\n",
    "\n",
    "print(name[::-1]) #prints the string in reverse order\n",
    "\n",
    "print(name[0::2]) #prints the characters from index 0 to the end with a step of 2\n"
   ]
  },
  {
   "cell_type": "code",
   "execution_count": 28,
   "metadata": {},
   "outputs": [
    {
     "name": "stdout",
     "output_type": "stream",
     "text": [
      "5\n",
      "-1\n",
      "6\n",
      "1.5\n",
      "1\n",
      "8\n",
      "2\n"
     ]
    }
   ],
   "source": [
    "#operators\n",
    "\n",
    "print(2 + 3) #addition\n",
    "print(2 - 3) #subtraction\n",
    "print(2 * 3) #multiplication\n",
    "print(3 / 2) #division\n",
    "print(3 // 2) #floor division\n",
    "print(2 ** 3) #exponentiation\n",
    "print(2 % 3) #modulus\n"
   ]
  },
  {
   "cell_type": "code",
   "execution_count": 29,
   "metadata": {},
   "outputs": [],
   "source": [
    "# i++ doesnot work in python. Instead we write i+=1"
   ]
  },
  {
   "cell_type": "code",
   "execution_count": 30,
   "metadata": {},
   "outputs": [
    {
     "name": "stdout",
     "output_type": "stream",
     "text": [
      "14\n",
      "20\n"
     ]
    }
   ],
   "source": [
    "#operator precedence\n",
    "print(2 + 3 * 4) #multiplication has higher precedence than addition\n",
    "print((2 + 3) * 4) #parentheses have higher precedence than multiplication"
   ]
  },
  {
   "cell_type": "code",
   "execution_count": 31,
   "metadata": {},
   "outputs": [
    {
     "name": "stdout",
     "output_type": "stream",
     "text": [
      "False\n",
      "True\n",
      "False\n",
      "True\n",
      "False\n",
      "True\n"
     ]
    }
   ],
   "source": [
    "#comparison operators\n",
    "print(2 == 3) #equal to\n",
    "print(2 != 3) #not equal to\n",
    "print(2 > 3) #greater than\n",
    "print(2 < 3) #less than\n",
    "print(2 >= 3) #greater than or equal to\n",
    "print(2 <= 3) #less than or equal to"
   ]
  },
  {
   "cell_type": "code",
   "execution_count": 32,
   "metadata": {},
   "outputs": [
    {
     "name": "stdout",
     "output_type": "stream",
     "text": [
      "False\n",
      "True\n",
      "False\n"
     ]
    }
   ],
   "source": [
    "#logical operators\n",
    "print(2 == 3 and 2 != 3) #and\n",
    "print(2 == 3 or 2 != 3) #or\n",
    "print(not 3>2) #not"
   ]
  },
  {
   "cell_type": "code",
   "execution_count": 33,
   "metadata": {},
   "outputs": [
    {
     "name": "stdout",
     "output_type": "stream",
     "text": [
      "You are an adult.\n"
     ]
    }
   ],
   "source": [
    "#conditional statements\n",
    "\n",
    "# if statement\n",
    "age = 20\n",
    "if age >= 18:\n",
    "    print(\"You are an adult.\")\n",
    "    "
   ]
  },
  {
   "cell_type": "code",
   "execution_count": 34,
   "metadata": {},
   "outputs": [
    {
     "name": "stdout",
     "output_type": "stream",
     "text": [
      "You are an adult.\n"
     ]
    }
   ],
   "source": [
    "# if-else statement\n",
    "age = 20\n",
    "if age >= 18:\n",
    "    print(\"You are an adult.\")\n",
    "else:\n",
    "    print(\"You are not an adult.\")\n",
    "    "
   ]
  },
  {
   "cell_type": "code",
   "execution_count": 35,
   "metadata": {},
   "outputs": [
    {
     "name": "stdout",
     "output_type": "stream",
     "text": [
      "You are an adult.\n"
     ]
    }
   ],
   "source": [
    "# if-elif-else statement\n",
    "age = 20\n",
    "if age < 13:\n",
    "    print(\"You are a child.\")\n",
    "elif age < 18:\n",
    "    print(\"You are a teenager.\")\n",
    "else:\n",
    "    print(\"You are an adult.\")\n",
    "    "
   ]
  },
  {
   "cell_type": "code",
   "execution_count": 36,
   "metadata": {},
   "outputs": [
    {
     "name": "stdout",
     "output_type": "stream",
     "text": [
      "You are an adult.\n",
      "You are not a senior citizen.\n"
     ]
    }
   ],
   "source": [
    "#nested if statement\n",
    "age = 20\n",
    "if age >= 18:\n",
    "    print(\"You are an adult.\")\n",
    "    if age >= 60:\n",
    "        print(\"You are a senior citizen.\")\n",
    "    else:\n",
    "        print(\"You are not a senior citizen.\")\n",
    "else:\n",
    "    print(\"You are not an adult.\")\n",
    "    "
   ]
  },
  {
   "cell_type": "code",
   "execution_count": 46,
   "metadata": {},
   "outputs": [
    {
     "name": "stdout",
     "output_type": "stream",
     "text": [
      "5\n"
     ]
    }
   ],
   "source": [
    "#Calculator\n",
    "first = int(input(\"Enter first number: \"))\n",
    "second = int(input(\"Enter second number: \"))\n",
    "operator = input(\"Enter operator: \")\n",
    "if operator == \"+\":\n",
    "    print(first + second)\n",
    "elif operator == \"-\":\n",
    "    print(first - second)\n",
    "elif operator == \"*\":\n",
    "    print(first * second)\n",
    "elif operator == \"/\":\n",
    "    print(first / second)\n",
    "else:\n",
    "    print(\"Invalid operator.\")\n",
    "    "
   ]
  },
  {
   "cell_type": "code",
   "execution_count": 41,
   "metadata": {},
   "outputs": [
    {
     "name": "stdout",
     "output_type": "stream",
     "text": [
      "You are 20 years old.\n"
     ]
    }
   ],
   "source": [
    "# match case is kind of like switch case as python doesnot have switch case\n",
    "# we dont need to write break statement\n",
    "# _ is used as default case\n",
    "# match case is available from python 3.10\n",
    "age = 20\n",
    "match age:\n",
    "    case 18:\n",
    "        print(\"You are 18 years old.\")\n",
    "    case 20:\n",
    "        print(\"You are 20 years old.\")\n",
    "    case 22:\n",
    "        print(\"You are 22 years old.\")\n",
    "    case _: #default case\n",
    "        print(\"You are neither 18, 20 nor 22 years old.\")\n"
   ]
  },
  {
   "cell_type": "code",
   "execution_count": 42,
   "metadata": {},
   "outputs": [
    {
     "name": "stdout",
     "output_type": "stream",
     "text": [
      "1\n",
      "2\n",
      "3\n",
      "4\n",
      "5\n"
     ]
    }
   ],
   "source": [
    "#loops\n",
    "\n",
    "#while loop\n",
    "i = 1\n",
    "while i <= 5:\n",
    "    print(i)\n",
    "    i += 1\n",
    "    "
   ]
  },
  {
   "cell_type": "code",
   "execution_count": 44,
   "metadata": {},
   "outputs": [],
   "source": [
    "#python doesnot have do-while loop"
   ]
  },
  {
   "cell_type": "code",
   "execution_count": 45,
   "metadata": {},
   "outputs": [
    {
     "name": "stdout",
     "output_type": "stream",
     "text": [
      "*\n",
      "**\n",
      "***\n",
      "****\n",
      "*****\n"
     ]
    }
   ],
   "source": [
    "#pyramid pattern\n",
    "i = 1\n",
    "while i <= 5:\n",
    "    print(\"*\" * i)\n",
    "    i += 1"
   ]
  },
  {
   "cell_type": "code",
   "execution_count": 47,
   "metadata": {},
   "outputs": [
    {
     "name": "stdout",
     "output_type": "stream",
     "text": [
      "range(0, 5)\n"
     ]
    }
   ],
   "source": [
    "#range\n",
    "print(range(5)) #prints range(0, 5)"
   ]
  },
  {
   "cell_type": "code",
   "execution_count": 48,
   "metadata": {},
   "outputs": [
    {
     "name": "stdout",
     "output_type": "stream",
     "text": [
      "0\n",
      "1\n",
      "2\n",
      "3\n",
      "4\n"
     ]
    }
   ],
   "source": [
    "#for loop\n",
    "for i in range(5):\n",
    "    print(i)\n"
   ]
  },
  {
   "cell_type": "code",
   "execution_count": 49,
   "metadata": {},
   "outputs": [
    {
     "name": "stdout",
     "output_type": "stream",
     "text": [
      "*\n",
      "**\n",
      "***\n",
      "****\n",
      "*****\n"
     ]
    }
   ],
   "source": [
    "#pyramid pattern\n",
    "for i in range(1, 6):\n",
    "    print(\"*\" * i)\n",
    "    "
   ]
  },
  {
   "cell_type": "code",
   "execution_count": 51,
   "metadata": {},
   "outputs": [
    {
     "name": "stdout",
     "output_type": "stream",
     "text": [
      "*****\n",
      "****\n",
      "***\n",
      "**\n",
      "*\n"
     ]
    }
   ],
   "source": [
    "#pyramid pattern\n",
    "for i in range(5, 0, -1): #range(start, stop, step)\n",
    "    print(\"*\" * i)\n"
   ]
  },
  {
   "cell_type": "code",
   "execution_count": 52,
   "metadata": {},
   "outputs": [
    {
     "name": "stdout",
     "output_type": "stream",
     "text": [
      "0\n",
      "1\n",
      "2\n",
      "3\n",
      "4\n",
      "Loop completed.\n"
     ]
    }
   ],
   "source": [
    "# for loop with else\n",
    "for i in range(5):\n",
    "    print(i)\n",
    "else:\n",
    "    print(\"Loop completed.\")\n",
    "    "
   ]
  },
  {
   "cell_type": "code",
   "execution_count": 57,
   "metadata": {},
   "outputs": [
    {
     "name": "stdout",
     "output_type": "stream",
     "text": [
      "95\n",
      "98\n",
      "100\n",
      "97\n",
      "99\n",
      "[95, 98, 100, 97, 99, 96]\n",
      "[95, 98, 94, 100, 97, 99, 96]\n",
      "[95, 98, 94, 97, 99, 96]\n",
      "[95, 98, 94, 97, 99]\n",
      "3\n",
      "1\n",
      "[94, 95, 97, 98, 99]\n",
      "5\n",
      "94\n",
      "95\n",
      "97\n",
      "98\n",
      "99\n"
     ]
    }
   ],
   "source": [
    "marks = [95, 98, 100, 97, 99]\n",
    "for mark in marks:\n",
    "    print(mark)\n",
    "\n",
    "\n",
    "marks.append(96)\n",
    "print(marks)\n",
    "\n",
    "marks.insert(2, 94)\n",
    "print(marks)\n",
    "\n",
    "marks.remove(100)\n",
    "print(marks)\n",
    "\n",
    "marks.pop()\n",
    "print(marks)\n",
    "\n",
    "print(marks.index(97))  #returns the index of the first occurrence of the element\n",
    "\n",
    "print(marks.count(97))  #returns the number of occurrences of the element\n",
    "\n",
    "marks.sort()\n",
    "print(marks)\n",
    "\n",
    "print(len(marks))\n",
    "\n",
    "i=0\n",
    "while i<len(marks):\n",
    "    print(marks[i])\n",
    "    i+=1\n",
    "\n"
   ]
  },
  {
   "cell_type": "code",
   "execution_count": 58,
   "metadata": {},
   "outputs": [
    {
     "name": "stdout",
     "output_type": "stream",
     "text": [
      "Mars\n",
      "TeaZZee\n",
      "Chuchubear\n",
      "Chuchupanda\n",
      "Mars\n"
     ]
    }
   ],
   "source": [
    "#break statement\n",
    "students = [\"Mars\", \"TeaZZee\", \"Chuchubear\", \"Chuchupanda\", \"Mars\", \"Sad\", \"Happy\"]\n",
    "for student in students:\n",
    "    if student == \"Sad\":\n",
    "        break\n",
    "    print(student)\n",
    "\n"
   ]
  },
  {
   "cell_type": "code",
   "execution_count": 59,
   "metadata": {},
   "outputs": [
    {
     "name": "stdout",
     "output_type": "stream",
     "text": [
      "Mars\n",
      "TeaZZee\n",
      "Chuchubear\n",
      "Chuchupanda\n",
      "Mars\n",
      "Happy\n"
     ]
    }
   ],
   "source": [
    "#continue statement\n",
    "students = [\"Mars\", \"TeaZZee\", \"Chuchubear\", \"Chuchupanda\", \"Mars\", \"Sad\", \"Happy\"]\n",
    "for student in students:\n",
    "    if student == \"Sad\":\n",
    "        continue\n",
    "    print(student)"
   ]
  },
  {
   "cell_type": "code",
   "execution_count": 70,
   "metadata": {},
   "outputs": [
    {
     "name": "stdout",
     "output_type": "stream",
     "text": [
      "(95, 98, 100, 97, 99, 97)\n",
      "2\n",
      "3\n",
      "6\n",
      "<class 'tuple'>\n",
      "<class 'tuple'>\n"
     ]
    }
   ],
   "source": [
    "#tuple\n",
    "#tuple is immutable\n",
    "#tuple can be defined without parentheses\n",
    "marks = (95, 98, 100, 97, 99, 97)\n",
    "also_marks = 95, 98, 100, 97, 99, 97\n",
    "\n",
    "print(marks)\n",
    "\n",
    "print(marks.count(97))  #returns the number of occurrences of the element\n",
    "\n",
    "print(marks.index(97))  #returns the index of the first occurrence of the element\n",
    "\n",
    "print(len(marks))\n",
    "\n",
    "print(type(marks))\n",
    "print(type(also_marks))\n"
   ]
  },
  {
   "cell_type": "code",
   "execution_count": 65,
   "metadata": {},
   "outputs": [
    {
     "name": "stdout",
     "output_type": "stream",
     "text": [
      "95\n",
      "98\n",
      "100\n",
      "97\n",
      "99\n",
      "97\n"
     ]
    }
   ],
   "source": [
    "#tuple unpacking\n",
    "marks = (95, 98, 100, 97, 99, 97)\n",
    "mark1, mark2, mark3, mark4, mark5, mark6 = marks\n",
    "print(mark1)\n",
    "print(mark2)\n",
    "print(mark3)\n",
    "print(mark4)\n",
    "print(mark5)\n",
    "print(mark6)"
   ]
  },
  {
   "cell_type": "code",
   "execution_count": 67,
   "metadata": {},
   "outputs": [
    {
     "name": "stdout",
     "output_type": "stream",
     "text": [
      "{97, 98, 99, 100, 95}\n"
     ]
    }
   ],
   "source": [
    "# set\n",
    "# set is unordered\n",
    "# set is mutable\n",
    "# set doesnot allow duplicate values\n",
    "# it doesnot support indexing\n",
    "# it doesnot support slicing\n",
    "marks = {95, 98, 100, 97, 99, 97}\n",
    "print(marks)\n",
    "\n",
    "#it will remove the duplicate values\n"
   ]
  },
  {
   "cell_type": "code",
   "execution_count": 69,
   "metadata": {},
   "outputs": [
    {
     "name": "stdout",
     "output_type": "stream",
     "text": [
      "{96, 97, 98, 99, 100, 95}\n"
     ]
    }
   ],
   "source": [
    "# set methods\n",
    "marks = {95, 98, 100, 97, 99, 97}\n",
    "marks.add(96)\n",
    "print(marks)\n",
    "\n",
    "#adds 96 to the set if it is not already present in the set at a random position"
   ]
  },
  {
   "cell_type": "code",
   "execution_count": 76,
   "metadata": {},
   "outputs": [
    {
     "name": "stdout",
     "output_type": "stream",
     "text": [
      "{'English': 95, 'Math': 98, 'Science': 100, 'Social': 97, 'Computer': 97}\n",
      "98\n",
      "98\n",
      "None\n",
      "{'English': 95, 'Math': 98, 'Science': 100, 'Social': 97, 'Computer': 97, 'Hindi': 96}\n",
      "dict_keys(['English', 'Math', 'Science', 'Social', 'Computer'])\n",
      "dict_values([95, 98, 100, 97, 97])\n",
      "dict_items([('English', 95), ('Math', 98), ('Science', 100), ('Social', 97), ('Computer', 97)])\n"
     ]
    }
   ],
   "source": [
    "#dictionary\n",
    "#dictionary is mutable\n",
    "#dictionary is unordered\n",
    "#dictionary doesnot allow duplicate keys\n",
    "#dictionary allows duplicate values\n",
    "\n",
    "#key:value\n",
    "\n",
    "marks = {\"English\": 95, \"Math\": 98, \"Science\": 100, \"Social\": 97, \"Computer\": 97}\n",
    "\n",
    "print(marks)\n",
    "\n",
    "print(marks[\"Math\"]) #returns the value of the key\n",
    "\n",
    "print(marks.get(\"Math\")) #returns the value of the key\n",
    "\n",
    "print(marks.get(\"Hindi\")) #returns None if the key is not found\n",
    "\n",
    "marks[\"Hindi\"] = 96 #adds the key-value pair to the dictionary if the key is not found\n",
    "\n",
    "print(marks)\n",
    "\n",
    "\n",
    "#dictionary methods\n",
    "marks = {\"English\": 95, \"Math\": 98, \"Science\": 100, \"Social\": 97, \"Computer\": 97}\n",
    "\n",
    "print(marks.keys()) #returns the keys of the dictionary\n",
    "\n",
    "print(marks.values()) #returns the values of the dictionary\n",
    "\n",
    "print(marks.items()) #returns the key-value pairs of the dictionary\n"
   ]
  },
  {
   "cell_type": "code",
   "execution_count": 79,
   "metadata": {},
   "outputs": [
    {
     "name": "stdout",
     "output_type": "stream",
     "text": [
      "English 95\n",
      "Math 98\n",
      "Science 100\n",
      "Social 97\n",
      "Computer 97\n"
     ]
    }
   ],
   "source": [
    "# dictionary unpacking\n",
    "marks = {\"English\": 95, \"Math\": 98, \"Science\": 100, \"Social\": 97, \"Computer\": 97}\n",
    "for key, value in marks.items(): #.items() returns the key-value pairs of the dictionary else we can use .keys() or .values() to return the keys or values of the dictionary respectively \n",
    "    print(key, value)\n"
   ]
  },
  {
   "cell_type": "code",
   "execution_count": 6,
   "metadata": {},
   "outputs": [
    {
     "name": "stdout",
     "output_type": "stream",
     "text": [
      "My name is Mars and I am 20 years old.\n",
      "My name is Mars and I am 20 years old.\n",
      "I am 5.8000 feet tall.\n",
      "My name is Mars and I am 20 years old.\n",
      "I am 20 years old and 5.8 feet tall.\n",
      "I am Mars years old and 5.8 feet tall.\n"
     ]
    }
   ],
   "source": [
    "#String formatting\n",
    "\n",
    "name = \"Mars\"\n",
    "age = 20\n",
    "height = 5.8\n",
    "\n",
    "print(\"My name is \" + name + \" and I am \" + str(age) + \" years old.\")\n",
    "\n",
    "print(\"My name is %s and I am %d years old.\" %(name, age))\n",
    "\n",
    "print(\"I am %5.4f feet tall.\" % height)\n",
    "\n",
    "# Another way of string formatting\n",
    "\n",
    "print(\"My name is {} and I am {} years old.\".format(name, age))\n",
    "\n",
    "print(\"I am {2} years old and {0} feet tall.\".format(height, name, age))\n",
    "\n",
    "print(\"I am {name} years old and {height} feet tall.\".format(name = \"Mars\", height = 5.8))"
   ]
  },
  {
   "cell_type": "code",
   "execution_count": 80,
   "metadata": {},
   "outputs": [
    {
     "name": "stdout",
     "output_type": "stream",
     "text": [
      "4.0\n"
     ]
    }
   ],
   "source": [
    "#importing modules\n",
    "import math\n",
    "print(math.sqrt(16))\n"
   ]
  },
  {
   "cell_type": "code",
   "execution_count": 81,
   "metadata": {},
   "outputs": [
    {
     "name": "stdout",
     "output_type": "stream",
     "text": [
      "4.0\n"
     ]
    }
   ],
   "source": [
    "from math import sqrt\n",
    "print(sqrt(16))"
   ]
  },
  {
   "cell_type": "code",
   "execution_count": 82,
   "metadata": {},
   "outputs": [
    {
     "name": "stdout",
     "output_type": "stream",
     "text": [
      "4.0\n",
      "120\n"
     ]
    }
   ],
   "source": [
    "from math import *\n",
    "print(sqrt(16))\n",
    "print(factorial(5))"
   ]
  },
  {
   "cell_type": "code",
   "execution_count": 88,
   "metadata": {},
   "outputs": [
    {
     "name": "stdout",
     "output_type": "stream",
     "text": [
      "5\n",
      "5\n",
      "5\n"
     ]
    }
   ],
   "source": [
    "\"\"\"\n",
    "functions\n",
    "\n",
    "def function_name(parameters):\n",
    "    function body\n",
    "    return value\n",
    "\"\"\"\n",
    "\n",
    "def sum(first, second):\n",
    "    return first + second\n",
    "\n",
    "print(sum(2, 3))\n",
    "\n",
    "\n",
    "\n",
    "\n",
    "def sum(first, second):\n",
    "    print(first + second)\n",
    "\n",
    "sum(2, 3)\n",
    "\n",
    "\n",
    "\n",
    "def sum(first, second = 3):\n",
    "    return first + second\n",
    "\n",
    "print(sum(2))\n"
   ]
  }
 ],
 "metadata": {
  "kernelspec": {
   "display_name": "Python 3",
   "language": "python",
   "name": "python3"
  },
  "language_info": {
   "codemirror_mode": {
    "name": "ipython",
    "version": 3
   },
   "file_extension": ".py",
   "mimetype": "text/x-python",
   "name": "python",
   "nbconvert_exporter": "python",
   "pygments_lexer": "ipython3",
   "version": "3.11.2"
  },
  "orig_nbformat": 4
 },
 "nbformat": 4,
 "nbformat_minor": 2
}
